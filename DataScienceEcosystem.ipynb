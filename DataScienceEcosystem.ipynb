{
 "cells": [
  {
   "cell_type": "markdown",
   "id": "1fd7d69a-08d9-4ae4-894f-34085f2d17e1",
   "metadata": {},
   "source": [
    "# Data Science Tools and Ecosystems"
   ]
  },
  {
   "cell_type": "markdown",
   "id": "b189819f-ee4e-43e9-8c02-3a436c0d7857",
   "metadata": {},
   "source": [
    "In this notebook, Data Science Tools and Ecosystem are summarized"
   ]
  },
  {
   "cell_type": "markdown",
   "id": "83b4adf0-87a9-424f-a974-b847e0f2a7de",
   "metadata": {},
   "source": [
    "*Objectives:*\n",
    "-List popular languages for Data Science\n",
    "-List common libraries for Data Science\n",
    "-List Data Science tools\n",
    "-Evaluate arithmetic expressions"
   ]
  },
  {
   "cell_type": "markdown",
   "id": "c3577465-774a-45b1-bff6-2489a491cee0",
   "metadata": {},
   "source": [
    "Some of the popular languages that Data Scientists use are:\n",
    "1. R\n",
    "2. Python\n",
    "3. SQL\n"
   ]
  },
  {
   "cell_type": "markdown",
   "id": "f75108a0-ffd5-403f-a961-c171cbeec664",
   "metadata": {},
   "source": [
    "Some of the commonly used libraries used by Data Scientists include:\n",
    "\n",
    "1. ggplot2\n",
    "2. Vegas\n",
    "3. Numpy"
   ]
  },
  {
   "cell_type": "markdown",
   "id": "1772b33f-90f4-4752-817b-88e4f492a5db",
   "metadata": {},
   "source": [
    "|Data Science Tools|\n",
    "|------|\n",
    "|data management eg MySQL|\n",
    "|data integration and transformation eg Apache Airflow|\n",
    "|model monitoring tools eg ModelDB|"
   ]
  },
  {
   "cell_type": "markdown",
   "id": "f8796852-bfa2-4a85-b2e3-6c45df08c0ad",
   "metadata": {},
   "source": [
    "### Below are a few examples of evaluating arithmetic expressions in Python"
   ]
  },
  {
   "cell_type": "code",
   "execution_count": 1,
   "id": "bbb8d5de-ca32-40a6-a70c-a38875df068c",
   "metadata": {
    "tags": []
   },
   "outputs": [
    {
     "data": {
      "text/plain": [
       "17"
      ]
     },
     "execution_count": 1,
     "metadata": {},
     "output_type": "execute_result"
    }
   ],
   "source": [
    "# This is a simple arithmetic expression to multiply then add integers\n",
    "(3*4)+5"
   ]
  },
  {
   "cell_type": "code",
   "execution_count": 2,
   "id": "c221b875-9c0e-496d-beda-2722b21dca71",
   "metadata": {
    "tags": []
   },
   "outputs": [
    {
     "data": {
      "text/plain": [
       "3.3333333333333335"
      ]
     },
     "execution_count": 2,
     "metadata": {},
     "output_type": "execute_result"
    }
   ],
   "source": [
    "# This will convert 200 minutes to hours by dividing by 60\n",
    "200/60"
   ]
  },
  {
   "cell_type": "markdown",
   "id": "359863ca-be43-4ba3-aafc-3e51860c5ef2",
   "metadata": {},
   "source": [
    "## Author\n",
    "Ethan Ansel-Kelly"
   ]
  }
 ],
 "metadata": {
  "kernelspec": {
   "display_name": "Python",
   "language": "python",
   "name": "conda-env-python-py"
  },
  "language_info": {
   "codemirror_mode": {
    "name": "ipython",
    "version": 3
   },
   "file_extension": ".py",
   "mimetype": "text/x-python",
   "name": "python",
   "nbconvert_exporter": "python",
   "pygments_lexer": "ipython3",
   "version": "3.7.12"
  }
 },
 "nbformat": 4,
 "nbformat_minor": 5
}
